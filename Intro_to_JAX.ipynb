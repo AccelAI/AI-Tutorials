{
 "cells": [
  {
   "cell_type": "code",
   "execution_count": 1,
   "id": "7511bc53",
   "metadata": {},
   "outputs": [],
   "source": [
    "import numpy as np\n",
    "import jax\n",
    "import jax.numpy as jnp"
   ]
  },
  {
   "cell_type": "code",
   "execution_count": 2,
   "id": "71e717bf",
   "metadata": {},
   "outputs": [
    {
     "name": "stderr",
     "output_type": "stream",
     "text": [
      "WARNING:absl:No GPU/TPU found, falling back to CPU. (Set TF_CPP_MIN_LOG_LEVEL=0 and rerun for more info.)\n"
     ]
    },
    {
     "name": "stdout",
     "output_type": "stream",
     "text": [
      "The slowest run took 6.46 times longer than the fastest. This could mean that an intermediate result is being cached.\n",
      "154 ms ± 158 ms per loop (mean ± std. dev. of 5 runs, 5 loops each)\n",
      "28.4 ms ± 18.4 ms per loop (mean ± std. dev. of 5 runs, 5 loops each)\n"
     ]
    }
   ],
   "source": [
    "from jax import jit\n",
    "x = np.random.rand(1000,1000)\n",
    "y= jnp.array(x)\n",
    "\n",
    "def a(x):\n",
    "\n",
    "  for _ in range(10):\n",
    "      x = 0.5*x + 0.1* jnp.sin(x)\n",
    "\n",
    "  return x\n",
    "\n",
    "b = jit(a)\n",
    "\n",
    "%timeit -n 5 -r 5 a(y).block_until_ready()\n",
    "# 5 loops, best of 5: 10.8 ms per loop\n",
    "\n",
    "%timeit -n 5 -r 5 b(y).block_until_ready()\n",
    "# 5 loops, best of 5: 341 µs per loop"
   ]
  },
  {
   "cell_type": "code",
   "execution_count": 3,
   "id": "6e67f361",
   "metadata": {},
   "outputs": [
    {
     "data": {
      "text/plain": [
       "8.0"
      ]
     },
     "execution_count": 3,
     "metadata": {},
     "output_type": "execute_result"
    }
   ],
   "source": [
    "from jax import grad\n",
    "\n",
    "def c(x):\n",
    "  return 3*x**2 + 2*x + 5\n",
    "\n",
    "def c_prime(x):\n",
    "  return 6*x +2\n",
    "\n",
    "grad(c)(1.0)\n",
    "# DeviceArray(8., dtype=float32)\n",
    "\n",
    "c_prime(1.0)"
   ]
  },
  {
   "cell_type": "code",
   "execution_count": 5,
   "id": "5f0a2671",
   "metadata": {},
   "outputs": [
    {
     "data": {
      "text/plain": [
       "DeviceArray([ 0,  1,  4,  9, 16, 25, 36, 49, 64, 81], dtype=int32)"
      ]
     },
     "execution_count": 5,
     "metadata": {},
     "output_type": "execute_result"
    }
   ],
   "source": [
    "from jax import vmap\n",
    "import jax.numpy as jnp\n",
    "\n",
    "def d(x):\n",
    "\n",
    "  return jnp.square(x)\n",
    "\n",
    "d(jnp.arange(10))\n",
    "\n",
    "#DeviceArray([ 0,  1,  4,  9, 16, 25, 36, 49, 64, 81], dtype=int32)\n",
    "\n",
    "vmap(d)(jnp.arange(10))"
   ]
  },
  {
   "cell_type": "code",
   "execution_count": 6,
   "id": "36e7f559",
   "metadata": {},
   "outputs": [
    {
     "name": "stdout",
     "output_type": "stream",
     "text": [
      "40.0\n",
      "-6.0\n"
     ]
    }
   ],
   "source": [
    "from jax import grad, jit\n",
    "\n",
    "def cf(x):\n",
    "  if x < 5:\n",
    "    return 5. * x ** 2\n",
    "  else:\n",
    "    return -6 * x\n",
    "\n",
    "print(grad(cf)(4.))  # ok!\n",
    "print(grad(cf)(7.))  # ok!"
   ]
  },
  {
   "cell_type": "code",
   "execution_count": 7,
   "id": "9116d36a",
   "metadata": {},
   "outputs": [
    {
     "name": "stdout",
     "output_type": "stream",
     "text": [
      "24\n"
     ]
    }
   ],
   "source": [
    "@jit\n",
    "def a(x):\n",
    "  for i in range(3):\n",
    "    x = 2 * x\n",
    "  return x\n",
    "\n",
    "print(a(3))"
   ]
  },
  {
   "cell_type": "code",
   "execution_count": 8,
   "id": "c038554d",
   "metadata": {},
   "outputs": [
    {
     "name": "stdout",
     "output_type": "stream",
     "text": [
      "6.0\n"
     ]
    }
   ],
   "source": [
    "@jit\n",
    "def b(x):\n",
    "  y = 0.\n",
    "  for i in range(x.shape[0]):\n",
    "    y = y + x[i]\n",
    "  return y\n",
    "\n",
    "print(b(jnp.array([1., 2., 3.])))"
   ]
  },
  {
   "cell_type": "code",
   "execution_count": 9,
   "id": "e0173d7a",
   "metadata": {},
   "outputs": [
    {
     "name": "stdout",
     "output_type": "stream",
     "text": [
      "Exception Abstract tracer value encountered where concrete value is expected: Traced<ShapedArray(bool[], weak_type=True)>with<DynamicJaxprTrace(level=0/1)>\n",
      "The problem arose with the `bool` function. \n",
      "While tracing the function f at /tmp/ipykernel_3735/319401360.py:3 for jit, this concrete value was not available in Python because it depends on the value of the argument 'x'.\n",
      "\n",
      "See https://jax.readthedocs.io/en/latest/errors.html#jax.errors.ConcretizationTypeError\n"
     ]
    }
   ],
   "source": [
    "from jax import grad, jit\n",
    "\n",
    "@jit\n",
    "def f(x):\n",
    "  if x < 3:\n",
    "    return 3. * x ** 2\n",
    "  else:\n",
    "    return -4 * x\n",
    "try:\n",
    "  f(2)\n",
    "except Exception as e:\n",
    "  print(\"Exception {}\".format(e))"
   ]
  },
  {
   "cell_type": "code",
   "execution_count": 10,
   "id": "e0b7e211",
   "metadata": {},
   "outputs": [
    {
     "name": "stdout",
     "output_type": "stream",
     "text": [
      "12.0\n"
     ]
    }
   ],
   "source": [
    "def f(x):\n",
    "  if x < 3:\n",
    "    return 3. * x ** 2\n",
    "  else:\n",
    "    return -4 * x\n",
    "\n",
    "f = jit(f, static_argnums=(0,))\n",
    "\n",
    "print(f(2.))"
   ]
  },
  {
   "cell_type": "code",
   "execution_count": 11,
   "id": "089d5bb3",
   "metadata": {},
   "outputs": [
    {
     "data": {
      "text/plain": [
       "DeviceArray(5., dtype=float32)"
      ]
     },
     "execution_count": 11,
     "metadata": {},
     "output_type": "execute_result"
    }
   ],
   "source": [
    "def f(x, n):\n",
    "  y = 0.\n",
    "  for i in range(n):\n",
    "    y = y + x[i]\n",
    "  return y\n",
    "\n",
    "f = jit(f, static_argnums=(1,))\n",
    "\n",
    "f(jnp.array([2., 3., 4.]), 2)"
   ]
  },
  {
   "cell_type": "code",
   "execution_count": 12,
   "id": "eb0a1c95",
   "metadata": {},
   "outputs": [
    {
     "name": "stdout",
     "output_type": "stream",
     "text": [
      "[0 5]\n"
     ]
    }
   ],
   "source": [
    "from jax import random\n",
    "\n",
    "key = random.PRNGKey(5)\n",
    "\n",
    "print(key)"
   ]
  },
  {
   "cell_type": "code",
   "execution_count": null,
   "id": "db381691",
   "metadata": {},
   "outputs": [],
   "source": [
    "import numpy as np\n",
    "from jax import pmap\n",
    "\n",
    "def e(x):\n",
    "  return jnp.sin(x) + x**2\n",
    "\n",
    "e(np.arange(4))\n",
    "#DeviceArray([0.       , 1.841471 , 4.9092975, 9.14112  ], dtype=float32)\n",
    "\n",
    "pmap(e)(np.arange(4))"
   ]
  },
  {
   "cell_type": "code",
   "execution_count": null,
   "id": "d9a5268b",
   "metadata": {},
   "outputs": [],
   "source": [
    "#won't run unless you have various devices running parallel to each other\n",
    "from functools import partial\n",
    "from jax.lax import pmean\n",
    "\n",
    "@partial(pmap, axis_name=\"i\")\n",
    "def normalize(x):\n",
    "\n",
    "  return x/ pmean(x,'i')\n",
    "\n",
    "normalize(np.arange(8.))"
   ]
  }
 ],
 "metadata": {
  "kernelspec": {
   "display_name": "Python 3 (ipykernel)",
   "language": "python",
   "name": "python3"
  },
  "language_info": {
   "codemirror_mode": {
    "name": "ipython",
    "version": 3
   },
   "file_extension": ".py",
   "mimetype": "text/x-python",
   "name": "python",
   "nbconvert_exporter": "python",
   "pygments_lexer": "ipython3",
   "version": "3.9.12"
  }
 },
 "nbformat": 4,
 "nbformat_minor": 5
}
