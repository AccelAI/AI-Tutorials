{
 "cells": [
  {
   "cell_type": "code",
   "execution_count": 14,
   "id": "2bab6c00",
   "metadata": {},
   "outputs": [],
   "source": [
    "# Install a pip package in the current Jupyter kernel\n",
    "# In case you don't have the packages installed, uncomment the following lines and run them ;)\n",
    "\n",
    "# import sys\n",
    "# !{sys.executable} -m pip install numpy\n",
    "# !{sys.executable} -m pip install matplotlib\n",
    "# !{sys.executable} -m pip install pandas\n",
    "# !{sys.executable} -m pip install scipy\n",
    "# !{sys.executable} -m pip install sklearn\n",
    "# !{sys.executable} -m pip install kneebow"
   ]
  },
  {
   "cell_type": "code",
   "execution_count": 1,
   "id": "f94c9f09",
   "metadata": {},
   "outputs": [],
   "source": [
    "#Basic Imports\n",
    "\n",
    "import numpy as np\n",
    "import pandas as pd\n",
    "import matplotlib.pyplot as plt\n",
    "import math as math\n",
    "from sklearn.cluster import DBSCAN\n",
    "from sklearn.neighbors import NearestNeighbors\n",
    "from kneebow.rotor import Rotor"
   ]
  },
  {
   "cell_type": "code",
   "execution_count": 2,
   "id": "7fd3b2ef",
   "metadata": {},
   "outputs": [],
   "source": [
    "#Extracting the Dataframe from the .csv file\n",
    "df = pd.read_csv(\"Mall_Customers.csv\")\n",
    "\n",
    "#Storing only the Annual Income and Spending Score values\n",
    "df = df.iloc[:,[3,4]].values"
   ]
  },
  {
   "cell_type": "code",
   "execution_count": 3,
   "id": "bce5ad05",
   "metadata": {},
   "outputs": [
    {
     "data": {
      "text/plain": [
       "<matplotlib.collections.PathCollection at 0x17ce8ae3940>"
      ]
     },
     "execution_count": 3,
     "metadata": {},
     "output_type": "execute_result"
    },
    {
     "data": {
      "image/png": "[encoded data removed]",
      "text/plain": [
       "<Figure size 432x288 with 1 Axes>"
      ]
     },
     "metadata": {
      "needs_background": "light"
     },
     "output_type": "display_data"
    }
   ],
   "source": [
    "#In here, we compute a plot that allow us to make an overview of our dataset\n",
    "plt.scatter(df[:,0], df[:,1], s=10, c= \"blue\")"
   ]
  },
  {
   "cell_type": "code",
   "execution_count": 15,
   "id": "1e13d88a",
   "metadata": {},
   "outputs": [],
   "source": [
    "#We calculate or k-distance for determinate our eps value.\n",
    "def calculate_kn_distance(X, neigh=2):\n",
    "    neigh = NearestNeighbors(n_neighbors=neigh)\n",
    "    nbrs = neigh.fit(X)\n",
    "    distances, indices = nbrs.kneighbors(X)\n",
    "    return distances[:,1:].reshape(-1)\n",
    "\n",
    "#We get the eps exact value using kneebow, this function allows\n",
    "#us to find the elbow of a curve by rotating the curve and taking\n",
    "#the minimum value.\n",
    "def get_eps(X, neigh=2):\n",
    "    eps_dist = np.sort(calculate_kn_distance(X, neigh=neigh))\n",
    "    rotor = Rotor()\n",
    "    curve_xy = np.concatenate([np.arange(eps_dist.shape[0]).reshape(-1, 1), eps_dist.reshape(-1, 1)],1)\n",
    "    rotor.fit_rotate(curve_xy)\n",
    "    rotor.plot_elbow()\n",
    "    e_idx = rotor.get_elbow_index()\n",
    "    return curve_xy[e_idx]"
   ]
  },
  {
   "cell_type": "code",
   "execution_count": 33,
   "id": "2db1d439",
   "metadata": {},
   "outputs": [
    {
     "data": {
      "image/png": "[encoded data removed]",
      "text/plain": [
       "<Figure size 432x288 with 1 Axes>"
      ]
     },
     "metadata": {
      "needs_background": "light"
     },
     "output_type": "display_data"
    },
    {
     "name": "stdout",
     "output_type": "stream",
     "text": [
      "5.385164807134504\n"
     ]
    }
   ],
   "source": [
    "#Calling our main function\n",
    "idx, eps = get_eps(df)\n",
    "\n",
    "#Showing the rotated version used for find the elbow.\n",
    "plt.show()\n",
    "\n",
    "#Printing the exact values of our eps, from here we will round it\n",
    "#and use it for our DBSCAN method.\n",
    "print(eps)"
   ]
  },
  {
   "cell_type": "code",
   "execution_count": 34,
   "id": "95425874",
   "metadata": {},
   "outputs": [],
   "source": [
    "#We compute the DBSCAN giving as parameters our calculated\n",
    "#eps value and estimated minPoints\n",
    "clusters = DBSCAN(eps=5, min_samples=5).fit(df)\n",
    "\n",
    "#We label each datapoint in a cluster, going from -1 (noises)\n",
    "#to 4 (our last visited cluster)\n",
    "labels = clusters.labels_"
   ]
  },
  {
   "cell_type": "code",
   "execution_count": 32,
   "id": "bac46da6",
   "metadata": {},
   "outputs": [
    {
     "data": {
      "image/png": "[encoded data removed]",
      "text/plain": [
       "<Figure size 432x288 with 1 Axes>"
      ]
     },
     "metadata": {
      "needs_background": "light"
     },
     "output_type": "display_data"
    }
   ],
   "source": [
    "#We make our plot by adding different colors for each label.\n",
    "plt.scatter(df[labels == -1, 0 ], df[labels == -1, 1], s = 10, c = 'black' )\n",
    "plt.scatter(df[labels == 0, 0 ], df[labels == 0, 1], s = 10, c = 'blue' )\n",
    "plt.scatter(df[labels == 1, 0 ], df[labels == 1, 1], s = 10, c = 'cyan' )\n",
    "plt.scatter(df[labels == 2, 0 ], df[labels == 2, 1], s = 10, c = 'yellow' )\n",
    "plt.scatter(df[labels == 3, 0 ], df[labels == 3, 1], s = 10, c = 'red' )\n",
    "plt.scatter(df[labels == 4, 0 ], df[labels == 4, 1], s = 10, c = 'orange' )\n",
    "plt.show()"
   ]
  },
  {
   "cell_type": "code",
   "execution_count": null,
   "id": "26d353a5",
   "metadata": {},
   "outputs": [],
   "source": []
  }
 ],
 "metadata": {
  "kernelspec": {
   "display_name": "Python 3 (ipykernel)",
   "language": "python",
   "name": "python3"
  },
  "language_info": {
   "codemirror_mode": {
    "name": "ipython",
    "version": 3
   },
   "file_extension": ".py",
   "mimetype": "text/x-python",
   "name": "python",
   "nbconvert_exporter": "python",
   "pygments_lexer": "ipython3",
   "version": "3.9.7"
  }
 },
 "nbformat": 4,
 "nbformat_minor": 5
}
