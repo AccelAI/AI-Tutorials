{
 "cells": [
  {
   "cell_type": "code",
   "execution_count": 1,
   "id": "640e48c2",
   "metadata": {},
   "outputs": [],
   "source": [
    "import numpy as np\n",
    "from scipy.linalg import svd"
   ]
  },
  {
   "cell_type": "code",
   "execution_count": 2,
   "id": "00baa41e",
   "metadata": {},
   "outputs": [],
   "source": [
    "#This function calculates the Eigenvectors corresponding for U and V matrices\n",
    "def calcMat(M, opc):\n",
    "    #Case of V Matrix\n",
    "    if opc == 1:\n",
    "        newM = np.dot(M.T, M)\n",
    "    #Case of U Matrix\n",
    "    if opc == 2:\n",
    "        newM = np.dot(M, M.T)\n",
    "    \n",
    "    eigenvalues, eigenvectors = np.linalg.eig(newM)\n",
    "    ncols = np.argsort(eigenvalues)[::-1]\n",
    "\n",
    "    #Case of V Matrix, let's transpose it\n",
    "    if opc == 1:\n",
    "        return eigenvectors[:,ncols].T\n",
    "    #Case of U, return normally\n",
    "    else: return eigenvectors[:,ncols]\n",
    "        \n",
    "\n",
    "#Function that calculates Eigenvalues corresponding to the Sigma Matrix\n",
    "def calcD(M):\n",
    "    if (np.size(np.dot(M, M.T)) > np.size(np.dot(M.T, M))):\n",
    "        newM = np.dot(M.T, M)\n",
    "    else:\n",
    "        newM = np.dot(M, M.T)\n",
    "    \n",
    "    eigenvalues, eigenvectors = np.linalg.eig(newM)\n",
    "    eigenvalues = np.sqrt(eigenvalues)\n",
    "    #Sorting in descending order as the svd function does\n",
    "    return eigenvalues[::-1]"
   ]
  },
  {
   "cell_type": "code",
   "execution_count": 3,
   "id": "a760f603",
   "metadata": {},
   "outputs": [],
   "source": [
    "#Creating our matrix\n",
    "A = np.array([[4, 2, 0], [1, 5, 6]])"
   ]
  },
  {
   "cell_type": "code",
   "execution_count": 4,
   "id": "c869f2ad",
   "metadata": {},
   "outputs": [],
   "source": [
    "#Calling the corresponding Fuctions and saving the values in variables\n",
    "Vt = calcMat(A, 1)\n",
    "U = calcMat(A,2)\n",
    "Sigma = calcD(A)"
   ]
  },
  {
   "cell_type": "code",
   "execution_count": 5,
   "id": "11eac750",
   "metadata": {},
   "outputs": [
    {
     "name": "stdout",
     "output_type": "stream",
     "text": [
      "[[-0.26001965 -0.65919758 -0.70558368]\n",
      " [-0.89132415 -0.11719389  0.43795758]\n",
      " [ 0.37139068 -0.74278135  0.55708601]] \n",
      "\n",
      "[[-0.28978415 -0.95709203]\n",
      " [-0.95709203  0.28978415]] \n",
      "\n",
      "[8.13872588 3.97003036]\n"
     ]
    }
   ],
   "source": [
    "print(Vt,\"\\n\")\n",
    "print(U, \"\\n\")\n",
    "print(Sigma)"
   ]
  },
  {
   "cell_type": "code",
   "execution_count": 6,
   "id": "c7e092e7",
   "metadata": {},
   "outputs": [
    {
     "name": "stdout",
     "output_type": "stream",
     "text": [
      "[[ 0.26001965  0.65919758  0.70558368]\n",
      " [-0.89132415 -0.11719389  0.43795758]\n",
      " [ 0.37139068 -0.74278135  0.55708601]] \n",
      "\n",
      "[[ 0.28978415 -0.95709203]\n",
      " [ 0.95709203  0.28978415]] \n",
      "\n",
      "[8.13872588 3.97003036]\n"
     ]
    }
   ],
   "source": [
    "U_svd, D, VT = np.linalg.svd(A)\n",
    "print(VT, \"\\n\")\n",
    "print(U_svd, \"\\n\")\n",
    "print(D)"
   ]
  }
 ],
 "metadata": {
  "kernelspec": {
   "display_name": "Python 3 (ipykernel)",
   "language": "python",
   "name": "python3"
  },
  "language_info": {
   "codemirror_mode": {
    "name": "ipython",
    "version": 3
   },
   "file_extension": ".py",
   "mimetype": "text/x-python",
   "name": "python",
   "nbconvert_exporter": "python",
   "pygments_lexer": "ipython3",
   "version": "3.9.7"
  }
 },
 "nbformat": 4,
 "nbformat_minor": 5
}
