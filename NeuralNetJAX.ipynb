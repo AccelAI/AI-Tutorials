{
 "cells": [
  {
   "cell_type": "code",
   "execution_count": 1,
   "id": "4be6e885",
   "metadata": {},
   "outputs": [],
   "source": [
    "import jax\n",
    "from jax.example_libraries import stax, optimizers\n",
    "import jax.numpy as jnp"
   ]
  },
  {
   "cell_type": "code",
   "execution_count": 3,
   "id": "f5a8d0fd",
   "metadata": {},
   "outputs": [
    {
     "name": "stderr",
     "output_type": "stream",
     "text": [
      "WARNING:absl:No GPU/TPU found, falling back to CPU. (Set TF_CPP_MIN_LOG_LEVEL=0 and rerun for more info.)\n"
     ]
    },
    {
     "data": {
      "text/plain": [
       "((614, 8), (154, 8), (614, 2), (154, 2))"
      ]
     },
     "execution_count": 3,
     "metadata": {},
     "output_type": "execute_result"
    }
   ],
   "source": [
    "from yellowbrick.datasets import load_energy\n",
    "from sklearn.model_selection import train_test_split\n",
    "from jax import numpy as jnp\n",
    "\n",
    "features = [\n",
    "   \"relative compactness\",\n",
    "   \"surface area\",\n",
    "   \"wall area\",\n",
    "   \"roof area\",\n",
    "   \"overall height\",\n",
    "   \"orientation\",\n",
    "   \"glazing area\",\n",
    "   \"glazing area distribution\",\n",
    "]\n",
    "target = [\"heating load\", \"cooling load\"]\n",
    "\n",
    "df = load_energy(return_dataset=True).to_dataframe()\n",
    "X, Y = df[features], df[target]\n",
    "\n",
    "X_train, X_test, Y_train, Y_test = train_test_split(X, Y, train_size=0.8, random_state=123)\n",
    "\n",
    "X_train, X_test, Y_train, Y_test = jnp.array(X_train, dtype=jnp.float32),\\\n",
    "                                   jnp.array(X_test, dtype=jnp.float32),\\\n",
    "                                   jnp.array(Y_train, dtype=jnp.float32),\\\n",
    "                                   jnp.array(Y_test, dtype=jnp.float32)\n",
    "\n",
    "samples, features = X_train.shape\n",
    "\n",
    "X_train.shape, X_test.shape, Y_train.shape, Y_test.shape"
   ]
  },
  {
   "cell_type": "code",
   "execution_count": 4,
   "id": "a22682c2",
   "metadata": {},
   "outputs": [],
   "source": [
    "mean = X_train.mean(axis=0)\n",
    "std = X_train.std(axis=0)\n",
    "\n",
    "X_train = (X_train - mean) / std\n",
    "X_test = (X_test - mean) / std"
   ]
  },
  {
   "cell_type": "code",
   "execution_count": 5,
   "id": "9dc7ef61",
   "metadata": {},
   "outputs": [
    {
     "data": {
      "text/plain": [
       "(<function jax.example_libraries.stax.Dense.<locals>.init_fun(rng, input_shape)>,\n",
       " <function jax.example_libraries.stax.Dense.<locals>.apply_fun(params, inputs, **kwargs)>)"
      ]
     },
     "execution_count": 5,
     "metadata": {},
     "output_type": "execute_result"
    }
   ],
   "source": [
    "stax.Dense(5)"
   ]
  },
  {
   "cell_type": "code",
   "execution_count": 6,
   "id": "ade0b617",
   "metadata": {},
   "outputs": [],
   "source": [
    "neural_net_init, neural_net_apply = stax.serial(\n",
    "                                                  stax.Dense(5),\n",
    "                                                  stax.Relu,\n",
    "                                                  stax.Dense(10),\n",
    "                                                  stax.Relu,\n",
    "                                                  stax.Dense(15),\n",
    "                                                  stax.Relu,\n",
    "                                                  stax.Dense(1),\n",
    "                                                )"
   ]
  },
  {
   "cell_type": "code",
   "execution_count": 7,
   "id": "9bd7294a",
   "metadata": {},
   "outputs": [
    {
     "data": {
      "text/plain": [
       "(<function jax.example_libraries.stax.serial.<locals>.init_fun(rng, input_shape)>,\n",
       " <function jax.example_libraries.stax.serial.<locals>.apply_fun(params, inputs, **kwargs)>)"
      ]
     },
     "execution_count": 7,
     "metadata": {},
     "output_type": "execute_result"
    }
   ],
   "source": [
    "neural_net_init, neural_net_apply"
   ]
  },
  {
   "cell_type": "code",
   "execution_count": 8,
   "id": "7bcf4f98",
   "metadata": {},
   "outputs": [
    {
     "name": "stdout",
     "output_type": "stream",
     "text": [
      "Weights : (8, 5), Biases : (5,)\n",
      "Weights : (5, 10), Biases : (10,)\n",
      "Weights : (10, 15), Biases : (15,)\n",
      "Weights : (15, 1), Biases : (1,)\n"
     ]
    }
   ],
   "source": [
    "rando = jax.random.PRNGKey(123)\n",
    "\n",
    "weights = neural_net_init(rando, (features,))\n",
    "\n",
    "weights = weights[1] ## Weights are actually stored in second element of two value tuple\n",
    "\n",
    "for w in weights:\n",
    "    if w:\n",
    "        w, b = w\n",
    "        print(\"Weights : {}, Biases : {}\".format(w.shape, b.shape))"
   ]
  },
  {
   "cell_type": "code",
   "execution_count": 9,
   "id": "e9f5cec4",
   "metadata": {},
   "outputs": [
    {
     "data": {
      "text/plain": [
       "DeviceArray([[-0.259568  ],\n",
       "             [-0.49770448],\n",
       "             [-1.2057577 ],\n",
       "             [-0.00148434],\n",
       "             [-0.53028834]], dtype=float32)"
      ]
     },
     "execution_count": 9,
     "metadata": {},
     "output_type": "execute_result"
    }
   ],
   "source": [
    "pred = neural_net_apply(weights, X_train[:5])\n",
    "\n",
    "pred"
   ]
  },
  {
   "cell_type": "code",
   "execution_count": 10,
   "id": "e850cbd7",
   "metadata": {},
   "outputs": [],
   "source": [
    "def MeanSquaredErrorLoss(weights, input_data, actual):\n",
    "    pred = neural_net_apply(weights, input_data)\n",
    "    pred = pred.squeeze()\n",
    "    return jnp.power(actual - pred, 2).mean()"
   ]
  },
  {
   "cell_type": "code",
   "execution_count": 11,
   "id": "3eda70e2",
   "metadata": {},
   "outputs": [],
   "source": [
    "from jax import grad, value_and_grad\n",
    "\n",
    "def TrainModel(X, Y, epochs, opt_state):\n",
    "\n",
    "    for i in range(1,epochs+1):\n",
    "        loss, gradients = value_and_grad(MeanSquaredErrorLoss)(opt_get_weights(opt_state), X, Y)\n",
    "\n",
    "        ## Update Weights\n",
    "        opt_state = opt_update(i, gradients, opt_state)\n",
    "\n",
    "        if i%100 ==0: ## Print MSE every 100 epochs\n",
    "            print(\"MSE : {:.2f}\".format(loss))\n",
    "\n",
    "    return opt_state"
   ]
  },
  {
   "cell_type": "code",
   "execution_count": 12,
   "id": "99fcbe78",
   "metadata": {},
   "outputs": [
    {
     "ename": "ValueError",
     "evalue": "Incompatible shapes for broadcasting: ((614, 2), (1, 614))",
     "output_type": "error",
     "traceback": [
      "\u001b[0;31m---------------------------------------------------------------------------\u001b[0m",
      "\u001b[0;31mValueError\u001b[0m                                Traceback (most recent call last)",
      "    \u001b[0;31m[... skipping hidden 1 frame]\u001b[0m\n",
      "File \u001b[0;32m~/.local/lib/python3.9/site-packages/jax/_src/util.py:219\u001b[0m, in \u001b[0;36mcache.<locals>.wrap.<locals>.wrapper\u001b[0;34m(*args, **kwargs)\u001b[0m\n\u001b[1;32m    218\u001b[0m \u001b[38;5;28;01melse\u001b[39;00m:\n\u001b[0;32m--> 219\u001b[0m   \u001b[38;5;28;01mreturn\u001b[39;00m \u001b[43mcached\u001b[49m\u001b[43m(\u001b[49m\u001b[43mconfig\u001b[49m\u001b[38;5;241;43m.\u001b[39;49m\u001b[43m_trace_context\u001b[49m\u001b[43m(\u001b[49m\u001b[43m)\u001b[49m\u001b[43m,\u001b[49m\u001b[43m \u001b[49m\u001b[38;5;241;43m*\u001b[39;49m\u001b[43margs\u001b[49m\u001b[43m,\u001b[49m\u001b[43m \u001b[49m\u001b[38;5;241;43m*\u001b[39;49m\u001b[38;5;241;43m*\u001b[39;49m\u001b[43mkwargs\u001b[49m\u001b[43m)\u001b[49m\n",
      "File \u001b[0;32m~/.local/lib/python3.9/site-packages/jax/_src/util.py:212\u001b[0m, in \u001b[0;36mcache.<locals>.wrap.<locals>.cached\u001b[0;34m(_, *args, **kwargs)\u001b[0m\n\u001b[1;32m    210\u001b[0m \u001b[38;5;129m@functools\u001b[39m\u001b[38;5;241m.\u001b[39mlru_cache(max_size)\n\u001b[1;32m    211\u001b[0m \u001b[38;5;28;01mdef\u001b[39;00m \u001b[38;5;21mcached\u001b[39m(_, \u001b[38;5;241m*\u001b[39margs, \u001b[38;5;241m*\u001b[39m\u001b[38;5;241m*\u001b[39mkwargs):\n\u001b[0;32m--> 212\u001b[0m   \u001b[38;5;28;01mreturn\u001b[39;00m \u001b[43mf\u001b[49m\u001b[43m(\u001b[49m\u001b[38;5;241;43m*\u001b[39;49m\u001b[43margs\u001b[49m\u001b[43m,\u001b[49m\u001b[43m \u001b[49m\u001b[38;5;241;43m*\u001b[39;49m\u001b[38;5;241;43m*\u001b[39;49m\u001b[43mkwargs\u001b[49m\u001b[43m)\u001b[49m\n",
      "File \u001b[0;32m~/.local/lib/python3.9/site-packages/jax/_src/lax/lax.py:126\u001b[0m, in \u001b[0;36m_broadcast_shapes_cached\u001b[0;34m(*shapes)\u001b[0m\n\u001b[1;32m    124\u001b[0m \u001b[38;5;129m@cache\u001b[39m()\n\u001b[1;32m    125\u001b[0m \u001b[38;5;28;01mdef\u001b[39;00m \u001b[38;5;21m_broadcast_shapes_cached\u001b[39m(\u001b[38;5;241m*\u001b[39mshapes: Tuple[\u001b[38;5;28mint\u001b[39m, \u001b[38;5;241m.\u001b[39m\u001b[38;5;241m.\u001b[39m\u001b[38;5;241m.\u001b[39m]) \u001b[38;5;241m-\u001b[39m\u001b[38;5;241m>\u001b[39m Tuple[\u001b[38;5;28mint\u001b[39m, \u001b[38;5;241m.\u001b[39m\u001b[38;5;241m.\u001b[39m\u001b[38;5;241m.\u001b[39m]:\n\u001b[0;32m--> 126\u001b[0m   \u001b[38;5;28;01mreturn\u001b[39;00m \u001b[43m_broadcast_shapes_uncached\u001b[49m\u001b[43m(\u001b[49m\u001b[38;5;241;43m*\u001b[39;49m\u001b[43mshapes\u001b[49m\u001b[43m)\u001b[49m\n",
      "File \u001b[0;32m~/.local/lib/python3.9/site-packages/jax/_src/lax/lax.py:142\u001b[0m, in \u001b[0;36m_broadcast_shapes_uncached\u001b[0;34m(*shapes)\u001b[0m\n\u001b[1;32m    141\u001b[0m \u001b[38;5;28;01mif\u001b[39;00m result_shape \u001b[38;5;129;01mis\u001b[39;00m \u001b[38;5;28;01mNone\u001b[39;00m:\n\u001b[0;32m--> 142\u001b[0m   \u001b[38;5;28;01mraise\u001b[39;00m \u001b[38;5;167;01mValueError\u001b[39;00m(\u001b[38;5;124m\"\u001b[39m\u001b[38;5;124mIncompatible shapes for broadcasting: \u001b[39m\u001b[38;5;132;01m{}\u001b[39;00m\u001b[38;5;124m\"\u001b[39m\n\u001b[1;32m    143\u001b[0m                    \u001b[38;5;241m.\u001b[39mformat(\u001b[38;5;28mtuple\u001b[39m(shape_list)))\n\u001b[1;32m    144\u001b[0m \u001b[38;5;28;01mreturn\u001b[39;00m result_shape\n",
      "\u001b[0;31mValueError\u001b[0m: Incompatible shapes for broadcasting: ((614, 2), (1, 614))",
      "\nDuring handling of the above exception, another exception occurred:\n",
      "\u001b[0;31mValueError\u001b[0m                                Traceback (most recent call last)",
      "Input \u001b[0;32mIn [12]\u001b[0m, in \u001b[0;36m<cell line: 12>\u001b[0;34m()\u001b[0m\n\u001b[1;32m      9\u001b[0m opt_init, opt_update, opt_get_weights \u001b[38;5;241m=\u001b[39m optimizers\u001b[38;5;241m.\u001b[39msgd(learning_rate)\n\u001b[1;32m     10\u001b[0m opt_state \u001b[38;5;241m=\u001b[39m opt_init(weights)\n\u001b[0;32m---> 12\u001b[0m final_opt_state \u001b[38;5;241m=\u001b[39m \u001b[43mTrainModel\u001b[49m\u001b[43m(\u001b[49m\u001b[43mX_train\u001b[49m\u001b[43m,\u001b[49m\u001b[43m \u001b[49m\u001b[43mY_train\u001b[49m\u001b[43m,\u001b[49m\u001b[43m \u001b[49m\u001b[43mepochs\u001b[49m\u001b[43m,\u001b[49m\u001b[43m \u001b[49m\u001b[43mopt_state\u001b[49m\u001b[43m)\u001b[49m\n",
      "Input \u001b[0;32mIn [11]\u001b[0m, in \u001b[0;36mTrainModel\u001b[0;34m(X, Y, epochs, opt_state)\u001b[0m\n\u001b[1;32m      3\u001b[0m \u001b[38;5;28;01mdef\u001b[39;00m \u001b[38;5;21mTrainModel\u001b[39m(X, Y, epochs, opt_state):\n\u001b[1;32m      5\u001b[0m     \u001b[38;5;28;01mfor\u001b[39;00m i \u001b[38;5;129;01min\u001b[39;00m \u001b[38;5;28mrange\u001b[39m(\u001b[38;5;241m1\u001b[39m,epochs\u001b[38;5;241m+\u001b[39m\u001b[38;5;241m1\u001b[39m):\n\u001b[0;32m----> 6\u001b[0m         loss, gradients \u001b[38;5;241m=\u001b[39m \u001b[43mvalue_and_grad\u001b[49m\u001b[43m(\u001b[49m\u001b[43mMeanSquaredErrorLoss\u001b[49m\u001b[43m)\u001b[49m\u001b[43m(\u001b[49m\u001b[43mopt_get_weights\u001b[49m\u001b[43m(\u001b[49m\u001b[43mopt_state\u001b[49m\u001b[43m)\u001b[49m\u001b[43m,\u001b[49m\u001b[43m \u001b[49m\u001b[43mX\u001b[49m\u001b[43m,\u001b[49m\u001b[43m \u001b[49m\u001b[43mY\u001b[49m\u001b[43m)\u001b[49m\n\u001b[1;32m      8\u001b[0m         \u001b[38;5;66;03m## Update Weights\u001b[39;00m\n\u001b[1;32m      9\u001b[0m         opt_state \u001b[38;5;241m=\u001b[39m opt_update(i, gradients, opt_state)\n",
      "    \u001b[0;31m[... skipping hidden 8 frame]\u001b[0m\n",
      "Input \u001b[0;32mIn [10]\u001b[0m, in \u001b[0;36mMeanSquaredErrorLoss\u001b[0;34m(weights, input_data, actual)\u001b[0m\n\u001b[1;32m      2\u001b[0m pred \u001b[38;5;241m=\u001b[39m neural_net_apply(weights, input_data)\n\u001b[1;32m      3\u001b[0m pred \u001b[38;5;241m=\u001b[39m pred\u001b[38;5;241m.\u001b[39msqueeze()\n\u001b[0;32m----> 4\u001b[0m \u001b[38;5;28;01mreturn\u001b[39;00m jnp\u001b[38;5;241m.\u001b[39mpower(\u001b[43mactual\u001b[49m\u001b[43m \u001b[49m\u001b[38;5;241;43m-\u001b[39;49m\u001b[43m \u001b[49m\u001b[43mpred\u001b[49m, \u001b[38;5;241m2\u001b[39m)\u001b[38;5;241m.\u001b[39mmean()\n",
      "File \u001b[0;32m~/.local/lib/python3.9/site-packages/jax/_src/numpy/lax_numpy.py:4557\u001b[0m, in \u001b[0;36m_defer_to_unrecognized_arg.<locals>.deferring_binary_op\u001b[0;34m(self, other)\u001b[0m\n\u001b[1;32m   4555\u001b[0m \u001b[38;5;28;01mif\u001b[39;00m \u001b[38;5;129;01mnot\u001b[39;00m \u001b[38;5;28misinstance\u001b[39m(other, _accepted_binop_types):\n\u001b[1;32m   4556\u001b[0m   \u001b[38;5;28;01mreturn\u001b[39;00m \u001b[38;5;28mNotImplemented\u001b[39m\n\u001b[0;32m-> 4557\u001b[0m \u001b[38;5;28;01mreturn\u001b[39;00m \u001b[43mbinary_op\u001b[49m\u001b[43m(\u001b[49m\u001b[38;5;28;43mself\u001b[39;49m\u001b[43m,\u001b[49m\u001b[43m \u001b[49m\u001b[43mother\u001b[49m\u001b[43m)\u001b[49m\n",
      "    \u001b[0;31m[... skipping hidden 20 frame]\u001b[0m\n",
      "File \u001b[0;32m~/.local/lib/python3.9/site-packages/jax/_src/numpy/ufuncs.py:75\u001b[0m, in \u001b[0;36m_one_to_one_binop.<locals>.<lambda>\u001b[0;34m(x1, x2)\u001b[0m\n\u001b[1;32m     73\u001b[0m   fn \u001b[38;5;241m=\u001b[39m \u001b[38;5;28;01mlambda\u001b[39;00m x1, x2: lax_fn(\u001b[38;5;241m*\u001b[39m_promote_args_inexact(numpy_fn\u001b[38;5;241m.\u001b[39m\u001b[38;5;18m__name__\u001b[39m, x1, x2))\n\u001b[1;32m     74\u001b[0m \u001b[38;5;28;01melse\u001b[39;00m:\n\u001b[0;32m---> 75\u001b[0m   fn \u001b[38;5;241m=\u001b[39m \u001b[38;5;28;01mlambda\u001b[39;00m x1, x2: lax_fn(\u001b[38;5;241m*\u001b[39m\u001b[43m_promote_args\u001b[49m\u001b[43m(\u001b[49m\u001b[43mnumpy_fn\u001b[49m\u001b[38;5;241;43m.\u001b[39;49m\u001b[38;5;18;43m__name__\u001b[39;49m\u001b[43m,\u001b[49m\u001b[43m \u001b[49m\u001b[43mx1\u001b[49m\u001b[43m,\u001b[49m\u001b[43m \u001b[49m\u001b[43mx2\u001b[49m\u001b[43m)\u001b[49m)\n\u001b[1;32m     76\u001b[0m fn \u001b[38;5;241m=\u001b[39m jit(fn, inline\u001b[38;5;241m=\u001b[39m\u001b[38;5;28;01mTrue\u001b[39;00m)\n\u001b[1;32m     77\u001b[0m \u001b[38;5;28;01mif\u001b[39;00m lax_doc:\n",
      "File \u001b[0;32m~/.local/lib/python3.9/site-packages/jax/_src/numpy/util.py:318\u001b[0m, in \u001b[0;36m_promote_args\u001b[0;34m(fun_name, *args)\u001b[0m\n\u001b[1;32m    316\u001b[0m _check_arraylike(fun_name, \u001b[38;5;241m*\u001b[39margs)\n\u001b[1;32m    317\u001b[0m _check_no_float0s(fun_name, \u001b[38;5;241m*\u001b[39margs)\n\u001b[0;32m--> 318\u001b[0m \u001b[38;5;28;01mreturn\u001b[39;00m \u001b[43m_promote_shapes\u001b[49m\u001b[43m(\u001b[49m\u001b[43mfun_name\u001b[49m\u001b[43m,\u001b[49m\u001b[43m \u001b[49m\u001b[38;5;241;43m*\u001b[39;49m\u001b[43m_promote_dtypes\u001b[49m\u001b[43m(\u001b[49m\u001b[38;5;241;43m*\u001b[39;49m\u001b[43margs\u001b[49m\u001b[43m)\u001b[49m\u001b[43m)\u001b[49m\n",
      "File \u001b[0;32m~/.local/lib/python3.9/site-packages/jax/_src/numpy/util.py:227\u001b[0m, in \u001b[0;36m_promote_shapes\u001b[0;34m(fun_name, *args)\u001b[0m\n\u001b[1;32m    225\u001b[0m   \u001b[38;5;28;01mreturn\u001b[39;00m [_broadcast_to(arg, res_shape) \u001b[38;5;28;01mfor\u001b[39;00m arg, shp \u001b[38;5;129;01min\u001b[39;00m \u001b[38;5;28mzip\u001b[39m(args, shapes)]\n\u001b[1;32m    226\u001b[0m \u001b[38;5;28;01melse\u001b[39;00m:\n\u001b[0;32m--> 227\u001b[0m   result_rank \u001b[38;5;241m=\u001b[39m \u001b[38;5;28mlen\u001b[39m(\u001b[43mlax\u001b[49m\u001b[38;5;241;43m.\u001b[39;49m\u001b[43mbroadcast_shapes\u001b[49m\u001b[43m(\u001b[49m\u001b[38;5;241;43m*\u001b[39;49m\u001b[43mshapes\u001b[49m\u001b[43m)\u001b[49m)\n\u001b[1;32m    228\u001b[0m   \u001b[38;5;28;01mreturn\u001b[39;00m [_broadcast_to(arg, (\u001b[38;5;241m1\u001b[39m,) \u001b[38;5;241m*\u001b[39m (result_rank \u001b[38;5;241m-\u001b[39m \u001b[38;5;28mlen\u001b[39m(shp)) \u001b[38;5;241m+\u001b[39m shp)\n\u001b[1;32m    229\u001b[0m           \u001b[38;5;28;01mfor\u001b[39;00m arg, shp \u001b[38;5;129;01min\u001b[39;00m \u001b[38;5;28mzip\u001b[39m(args, shapes)]\n",
      "    \u001b[0;31m[... skipping hidden 1 frame]\u001b[0m\n",
      "File \u001b[0;32m~/.local/lib/python3.9/site-packages/jax/_src/lax/lax.py:142\u001b[0m, in \u001b[0;36m_broadcast_shapes_uncached\u001b[0;34m(*shapes)\u001b[0m\n\u001b[1;32m    140\u001b[0m result_shape \u001b[38;5;241m=\u001b[39m _try_broadcast_shapes(shape_list)\n\u001b[1;32m    141\u001b[0m \u001b[38;5;28;01mif\u001b[39;00m result_shape \u001b[38;5;129;01mis\u001b[39;00m \u001b[38;5;28;01mNone\u001b[39;00m:\n\u001b[0;32m--> 142\u001b[0m   \u001b[38;5;28;01mraise\u001b[39;00m \u001b[38;5;167;01mValueError\u001b[39;00m(\u001b[38;5;124m\"\u001b[39m\u001b[38;5;124mIncompatible shapes for broadcasting: \u001b[39m\u001b[38;5;132;01m{}\u001b[39;00m\u001b[38;5;124m\"\u001b[39m\n\u001b[1;32m    143\u001b[0m                    \u001b[38;5;241m.\u001b[39mformat(\u001b[38;5;28mtuple\u001b[39m(shape_list)))\n\u001b[1;32m    144\u001b[0m \u001b[38;5;28;01mreturn\u001b[39;00m result_shape\n",
      "\u001b[0;31mValueError\u001b[0m: Incompatible shapes for broadcasting: ((614, 2), (1, 614))"
     ]
    }
   ],
   "source": [
    "seed = jax.random.PRNGKey(123)\n",
    "learning_rate = jnp.array(1/1e3)\n",
    "epochs = 2500\n",
    "\n",
    "weights = neural_net_init(rando, (features,))\n",
    "weights = weights[1]\n",
    "\n",
    "\n",
    "opt_init, opt_update, opt_get_weights = optimizers.sgd(learning_rate)\n",
    "opt_state = opt_init(weights)\n",
    "\n",
    "final_opt_state = TrainModel(X_train, Y_train, epochs, opt_state)"
   ]
  },
  {
   "cell_type": "code",
   "execution_count": null,
   "id": "14e4eadb",
   "metadata": {},
   "outputs": [],
   "source": []
  }
 ],
 "metadata": {
  "kernelspec": {
   "display_name": "Python 3 (ipykernel)",
   "language": "python",
   "name": "python3"
  },
  "language_info": {
   "codemirror_mode": {
    "name": "ipython",
    "version": 3
   },
   "file_extension": ".py",
   "mimetype": "text/x-python",
   "name": "python",
   "nbconvert_exporter": "python",
   "pygments_lexer": "ipython3",
   "version": "3.9.12"
  }
 },
 "nbformat": 4,
 "nbformat_minor": 5
}
