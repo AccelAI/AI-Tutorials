{
 "cells": [
  {
   "cell_type": "code",
   "execution_count": 1,
   "id": "11ad057c",
   "metadata": {},
   "outputs": [],
   "source": [
    "import jax\n",
    "from jax.example_libraries import stax, optimizers\n",
    "import jax.numpy as jnp"
   ]
  },
  {
   "cell_type": "code",
   "execution_count": 2,
   "id": "579f0202",
   "metadata": {},
   "outputs": [
    {
     "name": "stderr",
     "output_type": "stream",
     "text": [
      "WARNING:absl:No GPU/TPU found, falling back to CPU. (Set TF_CPP_MIN_LOG_LEVEL=0 and rerun for more info.)\n"
     ]
    },
    {
     "data": {
      "text/plain": [
       "((824, 8), (206, 8), (824,), (206,))"
      ]
     },
     "execution_count": 2,
     "metadata": {},
     "output_type": "execute_result"
    }
   ],
   "source": [
    "from yellowbrick.datasets import load_concrete\n",
    "from sklearn.model_selection import train_test_split\n",
    "from jax import numpy as jnp\n",
    "\n",
    "X, Y = load_concrete(data_home=None, return_dataset=False)\n",
    "\n",
    "X_train, X_test, Y_train, Y_test = train_test_split(X, Y, train_size=0.8, random_state=123)\n",
    "\n",
    "X_train, X_test, Y_train, Y_test = jnp.array(X_train, dtype=jnp.float32),\\\n",
    "                                   jnp.array(X_test, dtype=jnp.float32),\\\n",
    "                                   jnp.array(Y_train, dtype=jnp.float32),\\\n",
    "                                   jnp.array(Y_test, dtype=jnp.float32)\n",
    "\n",
    "samples, features = X_train.shape\n",
    "\n",
    "X_train.shape, X_test.shape, Y_train.shape, Y_test.shape"
   ]
  },
  {
   "cell_type": "code",
   "execution_count": 3,
   "id": "f3f3a1ae",
   "metadata": {},
   "outputs": [],
   "source": [
    "mean = X_train.mean(axis=0)\n",
    "std = X_train.std(axis=0)\n",
    "\n",
    "X_train = (X_train - mean) / std\n",
    "X_test = (X_test - mean) / std"
   ]
  },
  {
   "cell_type": "code",
   "execution_count": 4,
   "id": "d283e83f",
   "metadata": {},
   "outputs": [
    {
     "data": {
      "text/plain": [
       "(<function jax.example_libraries.stax.Dense.<locals>.init_fun(rng, input_shape)>,\n",
       " <function jax.example_libraries.stax.Dense.<locals>.apply_fun(params, inputs, **kwargs)>)"
      ]
     },
     "execution_count": 4,
     "metadata": {},
     "output_type": "execute_result"
    }
   ],
   "source": [
    "stax.Dense(5)"
   ]
  },
  {
   "cell_type": "code",
   "execution_count": 5,
   "id": "22702700",
   "metadata": {},
   "outputs": [],
   "source": [
    "neural_net_init, neural_net_apply = stax.serial(\n",
    "                                                  stax.Dense(5),\n",
    "                                                  stax.Relu,\n",
    "                                                  stax.Dense(10),\n",
    "                                                  stax.Relu,\n",
    "                                                  stax.Dense(15),\n",
    "                                                  stax.Relu,\n",
    "                                                  stax.Dense(1),\n",
    "                                                )"
   ]
  },
  {
   "cell_type": "code",
   "execution_count": 6,
   "id": "a64e5c50",
   "metadata": {},
   "outputs": [
    {
     "data": {
      "text/plain": [
       "(<function jax.example_libraries.stax.serial.<locals>.init_fun(rng, input_shape)>,\n",
       " <function jax.example_libraries.stax.serial.<locals>.apply_fun(params, inputs, **kwargs)>)"
      ]
     },
     "execution_count": 6,
     "metadata": {},
     "output_type": "execute_result"
    }
   ],
   "source": [
    "neural_net_init, neural_net_apply"
   ]
  },
  {
   "cell_type": "code",
   "execution_count": 7,
   "id": "60e377bb",
   "metadata": {},
   "outputs": [
    {
     "name": "stdout",
     "output_type": "stream",
     "text": [
      "Weights : (8, 5), Biases : (5,)\n",
      "Weights : (5, 10), Biases : (10,)\n",
      "Weights : (10, 15), Biases : (15,)\n",
      "Weights : (15, 1), Biases : (1,)\n"
     ]
    }
   ],
   "source": [
    "rando = jax.random.PRNGKey(123)\n",
    "\n",
    "weights = neural_net_init(rando, (features,))\n",
    "\n",
    "weights = weights[1] ## Weights are actually stored in second element of two value tuple\n",
    "\n",
    "for w in weights:\n",
    "    if w:\n",
    "        w, b = w\n",
    "        print(\"Weights : {}, Biases : {}\".format(w.shape, b.shape))"
   ]
  },
  {
   "cell_type": "code",
   "execution_count": 8,
   "id": "4881d083",
   "metadata": {},
   "outputs": [
    {
     "data": {
      "text/plain": [
       "DeviceArray([[-0.08696245],\n",
       "             [-0.03468872],\n",
       "             [-0.00760121],\n",
       "             [-0.18586212],\n",
       "             [-0.04303019]], dtype=float32)"
      ]
     },
     "execution_count": 8,
     "metadata": {},
     "output_type": "execute_result"
    }
   ],
   "source": [
    "pred = neural_net_apply(weights, X_train[:5])\n",
    "\n",
    "pred"
   ]
  },
  {
   "cell_type": "code",
   "execution_count": 9,
   "id": "50fe8ffb",
   "metadata": {},
   "outputs": [],
   "source": [
    "def MeanSquaredErrorLoss(weights, input_data, actual):\n",
    "    pred = neural_net_apply(weights, input_data)\n",
    "    pred = pred.squeeze()\n",
    "    return jnp.power(actual - pred, 2).mean()"
   ]
  },
  {
   "cell_type": "code",
   "execution_count": 10,
   "id": "cc81b0f5",
   "metadata": {},
   "outputs": [],
   "source": [
    "from jax import grad, value_and_grad\n",
    "\n",
    "def TrainModel(X, Y, epochs, opt_state):\n",
    "\n",
    "    for i in range(1,epochs+1):\n",
    "        loss, gradients = value_and_grad(MeanSquaredErrorLoss)(opt_get_weights(opt_state), X, Y)\n",
    "\n",
    "        ## Update Weights\n",
    "        opt_state = opt_update(i, gradients, opt_state)\n",
    "\n",
    "        if i%100 ==0: ## Print MSE every 100 epochs\n",
    "            print(\"MSE : {:.2f}\".format(loss))\n",
    "\n",
    "    return opt_state"
   ]
  },
  {
   "cell_type": "code",
   "execution_count": 11,
   "id": "2575c803",
   "metadata": {},
   "outputs": [
    {
     "name": "stdout",
     "output_type": "stream",
     "text": [
      "MSE : 102.73\n",
      "MSE : 65.51\n",
      "MSE : 74.54\n",
      "MSE : 70.01\n",
      "MSE : 69.14\n",
      "MSE : 66.94\n",
      "MSE : 65.08\n",
      "MSE : 63.40\n",
      "MSE : 61.86\n",
      "MSE : 60.28\n",
      "MSE : 59.17\n",
      "MSE : 57.93\n",
      "MSE : 56.80\n",
      "MSE : 56.03\n",
      "MSE : 54.69\n",
      "MSE : 53.78\n",
      "MSE : 53.00\n",
      "MSE : 52.67\n",
      "MSE : 51.12\n",
      "MSE : 50.58\n",
      "MSE : 50.69\n",
      "MSE : 49.96\n",
      "MSE : 49.53\n",
      "MSE : 49.23\n",
      "MSE : 49.04\n"
     ]
    }
   ],
   "source": [
    "seed = jax.random.PRNGKey(123)\n",
    "learning_rate = jnp.array(1/1e3)\n",
    "epochs = 2500\n",
    "\n",
    "weights = neural_net_init(rando, (features,))\n",
    "weights = weights[1]\n",
    "\n",
    "\n",
    "opt_init, opt_update, opt_get_weights = optimizers.sgd(learning_rate)\n",
    "opt_state = opt_init(weights)\n",
    "\n",
    "final_opt_state = TrainModel(X_train, Y_train, epochs, opt_state)"
   ]
  },
  {
   "cell_type": "code",
   "execution_count": 12,
   "id": "e8fb5e9b",
   "metadata": {},
   "outputs": [
    {
     "data": {
      "text/plain": [
       "(DeviceArray([54.604584, 39.705597, 27.754255, 15.736749, 35.262512], dtype=float32),\n",
       " DeviceArray([16.224113, 36.45395 , 44.029045, 12.285954, 26.516912], dtype=float32))"
      ]
     },
     "execution_count": 12,
     "metadata": {},
     "output_type": "execute_result"
    }
   ],
   "source": [
    "## Make Predictions on test dataset\n",
    "test_preds = neural_net_apply(opt_get_weights(final_opt_state), X_test) \n",
    "test_preds = test_preds.ravel()\n",
    "\n",
    "## Make Predictions on train dataset\n",
    "train_preds = neural_net_apply(opt_get_weights(final_opt_state), X_train) \n",
    "train_preds = train_preds.ravel()\n",
    "\n",
    "test_preds[:5], train_preds[:5]"
   ]
  },
  {
   "cell_type": "code",
   "execution_count": 13,
   "id": "2ca075f8",
   "metadata": {},
   "outputs": [
    {
     "name": "stdout",
     "output_type": "stream",
     "text": [
      "Train R^2 Score : 0.72\n",
      "Test  R^2 Score : 0.71\n"
     ]
    }
   ],
   "source": [
    "from sklearn.metrics import r2_score\n",
    "\n",
    "print(\"Train R^2 Score : {:.2f}\".format(r2_score(train_preds.to_py(), Y_train.to_py())))\n",
    "print(\"Test  R^2 Score : {:.2f}\".format(r2_score(test_preds.to_py(), Y_test.to_py())))"
   ]
  },
  {
   "cell_type": "code",
   "execution_count": 14,
   "id": "a8358f46",
   "metadata": {},
   "outputs": [],
   "source": [
    "def TrainModelWithBatches(X, Y, epochs, opt_state, batch_size=32):\n",
    "    for i in range(1, epochs+1):\n",
    "        batches = jnp.arange((X.shape[0]//batch_size)+1) ### Batch Indices\n",
    "\n",
    "        losses = [] ## Record loss of each batch\n",
    "        for batch in batches:\n",
    "            if batch != batches[-1]:\n",
    "                start, end = int(batch*batch_size), int(batch*batch_size+batch_size)\n",
    "            else:\n",
    "                start, end = int(batch*batch_size), None\n",
    "\n",
    "            X_batch, Y_batch = X[start:end], Y[start:end] ## Single batch of data\n",
    "\n",
    "            loss, gradients = value_and_grad(MeanSquaredErrorLoss)(opt_get_weights(opt_state), X_batch, Y_batch)\n",
    "\n",
    "            ## Update Weights\n",
    "            opt_state = opt_update(i, gradients, opt_state)\n",
    "\n",
    "            losses.append(loss) ## Record Loss\n",
    "\n",
    "        if i % 100 == 0: ## Print MSE every 100 epochs\n",
    "            print(\"MSE : {:.2f}\".format(jnp.array(losses).mean()))\n",
    "\n",
    "    return opt_state"
   ]
  },
  {
   "cell_type": "code",
   "execution_count": 15,
   "id": "b01fb9b0",
   "metadata": {},
   "outputs": [
    {
     "name": "stdout",
     "output_type": "stream",
     "text": [
      "MSE : 55.23\n",
      "MSE : 42.40\n",
      "MSE : 37.67\n",
      "MSE : 34.27\n",
      "MSE : 34.07\n"
     ]
    }
   ],
   "source": [
    "seed = jax.random.PRNGKey(123)\n",
    "learning_rate = jnp.array(1/1e3)\n",
    "epochs = 500\n",
    "\n",
    "weights = neural_net_init(rando, (features,))\n",
    "weights = weights[1]\n",
    "\n",
    "\n",
    "opt_init, opt_update, opt_get_weights = optimizers.sgd(learning_rate)\n",
    "opt_state = opt_init(weights)\n",
    "\n",
    "final_opt_state = TrainModelWithBatches(X_train, Y_train, epochs, opt_state)"
   ]
  },
  {
   "cell_type": "code",
   "execution_count": 16,
   "id": "1e85411c",
   "metadata": {},
   "outputs": [],
   "source": [
    "def MakePredictions(weights, input_data, batch_size=32):\n",
    "    batches = jnp.arange((input_data.shape[0]//batch_size)+1) ### Batch Indices\n",
    "\n",
    "    preds = []\n",
    "    for batch in batches:\n",
    "        if batch != batches[-1]:\n",
    "            start, end = int(batch*batch_size), int(batch*batch_size+batch_size)\n",
    "        else:\n",
    "            start, end = int(batch*batch_size), None\n",
    "\n",
    "        X_batch = input_data[start:end]\n",
    "\n",
    "        preds.append(neural_net_apply(weights, X_batch))\n",
    "\n",
    "    return preds"
   ]
  },
  {
   "cell_type": "code",
   "execution_count": 17,
   "id": "f40751d8",
   "metadata": {},
   "outputs": [
    {
     "data": {
      "text/plain": [
       "(DeviceArray([67.84538 , 41.260525, 26.361334, 15.545101, 39.20099 ], dtype=float32),\n",
       " DeviceArray([16.22281  , 40.606377 , 50.369236 ,  7.7457733, 30.480265 ],            dtype=float32))"
      ]
     },
     "execution_count": 17,
     "metadata": {},
     "output_type": "execute_result"
    }
   ],
   "source": [
    "test_preds = MakePredictions(opt_get_weights(final_opt_state), X_test)\n",
    "test_preds = jnp.concatenate(test_preds).squeeze() ## Combine predictions of all batches\n",
    "\n",
    "train_preds = MakePredictions(opt_get_weights(final_opt_state), X_train)\n",
    "train_preds = jnp.concatenate(train_preds).squeeze() ## Combine predictions of all batches\n",
    "\n",
    "test_preds[:5], train_preds[:5]"
   ]
  },
  {
   "cell_type": "code",
   "execution_count": 18,
   "id": "d85b967e",
   "metadata": {},
   "outputs": [
    {
     "name": "stdout",
     "output_type": "stream",
     "text": [
      "Test  R^2 Score : 0.84\n",
      "Train R^2 Score : 0.86\n"
     ]
    }
   ],
   "source": [
    "from sklearn.metrics import r2_score\n",
    "\n",
    "print(\"Test  R^2 Score : {:.2f}\".format(r2_score(test_preds, Y_test)))\n",
    "print(\"Train R^2 Score : {:.2f}\".format(r2_score(train_preds, Y_train)))"
   ]
  },
  {
   "cell_type": "code",
   "execution_count": null,
   "id": "9db5f497",
   "metadata": {},
   "outputs": [],
   "source": []
  }
 ],
 "metadata": {
  "kernelspec": {
   "display_name": "Python 3 (ipykernel)",
   "language": "python",
   "name": "python3"
  },
  "language_info": {
   "codemirror_mode": {
    "name": "ipython",
    "version": 3
   },
   "file_extension": ".py",
   "mimetype": "text/x-python",
   "name": "python",
   "nbconvert_exporter": "python",
   "pygments_lexer": "ipython3",
   "version": "3.9.12"
  }
 },
 "nbformat": 4,
 "nbformat_minor": 5
}
